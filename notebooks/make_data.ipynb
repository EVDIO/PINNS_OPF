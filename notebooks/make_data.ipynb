{
 "cells": [
  {
   "cell_type": "code",
   "execution_count": 18,
   "metadata": {},
   "outputs": [],
   "source": [
    "import os\n",
    "import numpy as np\n",
    "from sklearn.preprocessing import MinMaxScaler\n",
    "import tensorflow as tf\n",
    "import matplotlib.pyplot as plt\n",
    "import pandas as pd"
   ]
  },
  {
   "cell_type": "code",
   "execution_count": 3,
   "metadata": {},
   "outputs": [],
   "source": [
    "file_path = \"data.npy\"\n",
    "\n",
    "with open(file_path, \"rb\") as file:\n",
    "    data_array = np.load(file)"
   ]
  },
  {
   "cell_type": "code",
   "execution_count": 4,
   "metadata": {},
   "outputs": [
    {
     "name": "stdout",
     "output_type": "stream",
     "text": [
      "(2400, 45)\n"
     ]
    }
   ],
   "source": [
    "# Assuming you already have the 'data_array' with shape (24, num_columns)\n",
    "num_copies = 100\n",
    "\n",
    "# Create an array of shape (num_copies, 1) to repeat 'data_array' vertically\n",
    "repeated_array = np.tile(data_array, (num_copies, 1))\n",
    "\n",
    "# Stack the repeated arrays vertically\n",
    "data_array_extended = np.vstack(repeated_array)\n",
    "\n",
    "print(data_array_extended.shape)\n"
   ]
  },
  {
   "cell_type": "code",
   "execution_count": 5,
   "metadata": {},
   "outputs": [
    {
     "data": {
      "text/plain": [
       "2400"
      ]
     },
     "execution_count": 5,
     "metadata": {},
     "output_type": "execute_result"
    }
   ],
   "source": [
    "len(data_array_extended)"
   ]
  },
  {
   "cell_type": "code",
   "execution_count": 6,
   "metadata": {},
   "outputs": [],
   "source": [
    "def shift_data(data_array, window_size=5):\n",
    "  X = []\n",
    "  y = []\n",
    "  for i in range(len(data_array_extended)-window_size):\n",
    "    row = [r for r in data_array_extended[i:i+window_size]]\n",
    "    X.append(row)\n",
    "    label = [data_array_extended[i+window_size]]\n",
    "    y.append(label)\n",
    "  return np.array(X), np.array(y)\n",
    "\n"
   ]
  },
  {
   "cell_type": "code",
   "execution_count": 7,
   "metadata": {},
   "outputs": [
    {
     "data": {
      "text/plain": [
       "((2395, 5, 45), (2395, 1, 45))"
      ]
     },
     "execution_count": 7,
     "metadata": {},
     "output_type": "execute_result"
    }
   ],
   "source": [
    "X,y = shift_data(data_array=data_array_extended)\n",
    "X.shape, y.shape"
   ]
  },
  {
   "cell_type": "code",
   "execution_count": 8,
   "metadata": {},
   "outputs": [],
   "source": [
    "scalers_x = {}\n",
    "for i in range(X.shape[2]):\n",
    "    scalers_x[i] = MinMaxScaler().fit(X[:, :, i])\n",
    "\n",
    "scalers_y = {}\n",
    "for i in range(y.shape[2]):\n",
    "    scalers_y[i] = MinMaxScaler()\n",
    "    scalers_y[i] =  MinMaxScaler().fit(y[:, :, i]) \n",
    " \n",
    "for i in range(X.shape[2]):\n",
    "    X[:, :, i] = scalers_x[i].transform(X[:, :, i])\n",
    "\n",
    "for i in range(y.shape[2]):\n",
    "    y[:, :, i] = scalers_y[i].transform(y[:, :, i]) "
   ]
  },
  {
   "cell_type": "code",
   "execution_count": 13,
   "metadata": {},
   "outputs": [
    {
     "data": {
      "text/plain": [
       "(2395, 5, 45)"
      ]
     },
     "execution_count": 13,
     "metadata": {},
     "output_type": "execute_result"
    }
   ],
   "source": [
    "X.shape"
   ]
  },
  {
   "cell_type": "code",
   "execution_count": 15,
   "metadata": {},
   "outputs": [
    {
     "data": {
      "text/plain": [
       "((1800, 5, 45),\n",
       " (1800, 1, 45),\n",
       " (300, 5, 45),\n",
       " (300, 1, 45),\n",
       " (295, 5, 45),\n",
       " (295, 1, 45))"
      ]
     },
     "execution_count": 15,
     "metadata": {},
     "output_type": "execute_result"
    }
   ],
   "source": [
    "X3_train, y3_train = X[:1800], y[:1800]\n",
    "X3_val, y3_val = X[1800:2100], y[1800:2100]\n",
    "X3_test, y3_test = X[2100:], y[2100:]\n",
    "X3_train.shape, y3_train.shape, X3_val.shape, y3_val.shape, X3_test.shape, y3_test.shape"
   ]
  },
  {
   "cell_type": "code",
   "execution_count": 9,
   "metadata": {},
   "outputs": [],
   "source": [
    "# for i in range(X.shape[2]):\n",
    "#     X[:, :, i] = scalers_x[i].inverse_transform(X[:, :, i])\n",
    "\n",
    "# for i in range(y.shape[2]):\n",
    "#     y[:, :, i] = scalers_y[i].inverse_transform(y[:, :, i]) \n",
    " "
   ]
  },
  {
   "cell_type": "code",
   "execution_count": 10,
   "metadata": {},
   "outputs": [],
   "source": [
    "from tensorflow.keras.models import Sequential\n",
    "from tensorflow.keras.layers import *\n",
    "from tensorflow.keras.callbacks import ModelCheckpoint\n",
    "from tensorflow.keras.losses import MeanSquaredError\n",
    "from tensorflow.keras.metrics import RootMeanSquaredError\n",
    "from tensorflow.keras.optimizers import Adam"
   ]
  },
  {
   "cell_type": "code",
   "execution_count": 11,
   "metadata": {},
   "outputs": [
    {
     "name": "stdout",
     "output_type": "stream",
     "text": [
      "Model: \"sequential\"\n",
      "_________________________________________________________________\n",
      " Layer (type)                Output Shape              Param #   \n",
      "=================================================================\n",
      " lstm (LSTM)                 (None, 64)                28160     \n",
      "                                                                 \n",
      " dense (Dense)               (None, 18)                1170      \n",
      "                                                                 \n",
      " dense_1 (Dense)             (None, 45)                855       \n",
      "                                                                 \n",
      "=================================================================\n",
      "Total params: 30,185\n",
      "Trainable params: 30,185\n",
      "Non-trainable params: 0\n",
      "_________________________________________________________________\n"
     ]
    }
   ],
   "source": [
    "model5 = Sequential()\n",
    "model5.add(InputLayer((5, 45)))\n",
    "model5.add(LSTM(64))\n",
    "model5.add(Dense(18, 'relu'))\n",
    "model5.add(Dense(45, 'linear'))\n",
    "\n",
    "model5.summary()"
   ]
  },
  {
   "cell_type": "code",
   "execution_count": 12,
   "metadata": {},
   "outputs": [],
   "source": [
    "cp5 = ModelCheckpoint('model5/', save_best_only=True)\n",
    "model5.compile(loss=MeanSquaredError(), optimizer=Adam(learning_rate=0.0001), metrics=[RootMeanSquaredError()])"
   ]
  },
  {
   "cell_type": "code",
   "execution_count": 16,
   "metadata": {},
   "outputs": [
    {
     "name": "stdout",
     "output_type": "stream",
     "text": [
      "Epoch 1/10\n",
      "50/57 [=========================>....] - ETA: 0s - loss: 0.2023 - root_mean_squared_error: 0.4498"
     ]
    },
    {
     "name": "stderr",
     "output_type": "stream",
     "text": [
      "WARNING:absl:Found untraced functions such as _update_step_xla, lstm_cell_layer_call_fn, lstm_cell_layer_call_and_return_conditional_losses while saving (showing 3 of 3). These functions will not be directly callable after loading.\n"
     ]
    },
    {
     "name": "stdout",
     "output_type": "stream",
     "text": [
      "INFO:tensorflow:Assets written to: model5\\assets\n"
     ]
    },
    {
     "name": "stderr",
     "output_type": "stream",
     "text": [
      "INFO:tensorflow:Assets written to: model5\\assets\n"
     ]
    },
    {
     "name": "stdout",
     "output_type": "stream",
     "text": [
      "57/57 [==============================] - 12s 148ms/step - loss: 0.2015 - root_mean_squared_error: 0.4489 - val_loss: 0.1900 - val_root_mean_squared_error: 0.4361\n",
      "Epoch 2/10\n",
      "57/57 [==============================] - ETA: 0s - loss: 0.1815 - root_mean_squared_error: 0.4260"
     ]
    },
    {
     "name": "stderr",
     "output_type": "stream",
     "text": [
      "WARNING:absl:Found untraced functions such as _update_step_xla, lstm_cell_layer_call_fn, lstm_cell_layer_call_and_return_conditional_losses while saving (showing 3 of 3). These functions will not be directly callable after loading.\n"
     ]
    },
    {
     "name": "stdout",
     "output_type": "stream",
     "text": [
      "INFO:tensorflow:Assets written to: model5\\assets\n"
     ]
    },
    {
     "name": "stderr",
     "output_type": "stream",
     "text": [
      "INFO:tensorflow:Assets written to: model5\\assets\n"
     ]
    },
    {
     "name": "stdout",
     "output_type": "stream",
     "text": [
      "57/57 [==============================] - 7s 119ms/step - loss: 0.1815 - root_mean_squared_error: 0.4260 - val_loss: 0.1738 - val_root_mean_squared_error: 0.4172\n",
      "Epoch 3/10\n",
      "52/57 [==========================>...] - ETA: 0s - loss: 0.1695 - root_mean_squared_error: 0.4117"
     ]
    },
    {
     "name": "stderr",
     "output_type": "stream",
     "text": [
      "WARNING:absl:Found untraced functions such as _update_step_xla, lstm_cell_layer_call_fn, lstm_cell_layer_call_and_return_conditional_losses while saving (showing 3 of 3). These functions will not be directly callable after loading.\n"
     ]
    },
    {
     "name": "stdout",
     "output_type": "stream",
     "text": [
      "INFO:tensorflow:Assets written to: model5\\assets\n"
     ]
    },
    {
     "name": "stderr",
     "output_type": "stream",
     "text": [
      "INFO:tensorflow:Assets written to: model5\\assets\n"
     ]
    },
    {
     "name": "stdout",
     "output_type": "stream",
     "text": [
      "57/57 [==============================] - 7s 126ms/step - loss: 0.1688 - root_mean_squared_error: 0.4109 - val_loss: 0.1626 - val_root_mean_squared_error: 0.4035\n",
      "Epoch 4/10\n",
      "56/57 [============================>.] - ETA: 0s - loss: 0.1562 - root_mean_squared_error: 0.3952"
     ]
    },
    {
     "name": "stderr",
     "output_type": "stream",
     "text": [
      "WARNING:absl:Found untraced functions such as _update_step_xla, lstm_cell_layer_call_fn, lstm_cell_layer_call_and_return_conditional_losses while saving (showing 3 of 3). These functions will not be directly callable after loading.\n"
     ]
    },
    {
     "name": "stdout",
     "output_type": "stream",
     "text": [
      "INFO:tensorflow:Assets written to: model5\\assets\n"
     ]
    },
    {
     "name": "stderr",
     "output_type": "stream",
     "text": [
      "INFO:tensorflow:Assets written to: model5\\assets\n"
     ]
    },
    {
     "name": "stdout",
     "output_type": "stream",
     "text": [
      "57/57 [==============================] - 6s 115ms/step - loss: 0.1562 - root_mean_squared_error: 0.3952 - val_loss: 0.1482 - val_root_mean_squared_error: 0.3851\n",
      "Epoch 5/10\n",
      "55/57 [===========================>..] - ETA: 0s - loss: 0.1402 - root_mean_squared_error: 0.3744"
     ]
    },
    {
     "name": "stderr",
     "output_type": "stream",
     "text": [
      "WARNING:absl:Found untraced functions such as _update_step_xla, lstm_cell_layer_call_fn, lstm_cell_layer_call_and_return_conditional_losses while saving (showing 3 of 3). These functions will not be directly callable after loading.\n"
     ]
    },
    {
     "name": "stdout",
     "output_type": "stream",
     "text": [
      "INFO:tensorflow:Assets written to: model5\\assets\n"
     ]
    },
    {
     "name": "stderr",
     "output_type": "stream",
     "text": [
      "INFO:tensorflow:Assets written to: model5\\assets\n"
     ]
    },
    {
     "name": "stdout",
     "output_type": "stream",
     "text": [
      "57/57 [==============================] - 7s 128ms/step - loss: 0.1401 - root_mean_squared_error: 0.3742 - val_loss: 0.1319 - val_root_mean_squared_error: 0.3633\n",
      "Epoch 6/10\n",
      "54/57 [===========================>..] - ETA: 0s - loss: 0.1255 - root_mean_squared_error: 0.3542"
     ]
    },
    {
     "name": "stderr",
     "output_type": "stream",
     "text": [
      "WARNING:absl:Found untraced functions such as _update_step_xla, lstm_cell_layer_call_fn, lstm_cell_layer_call_and_return_conditional_losses while saving (showing 3 of 3). These functions will not be directly callable after loading.\n"
     ]
    },
    {
     "name": "stdout",
     "output_type": "stream",
     "text": [
      "INFO:tensorflow:Assets written to: model5\\assets\n"
     ]
    },
    {
     "name": "stderr",
     "output_type": "stream",
     "text": [
      "INFO:tensorflow:Assets written to: model5\\assets\n"
     ]
    },
    {
     "name": "stdout",
     "output_type": "stream",
     "text": [
      "57/57 [==============================] - 7s 120ms/step - loss: 0.1253 - root_mean_squared_error: 0.3539 - val_loss: 0.1182 - val_root_mean_squared_error: 0.3439\n",
      "Epoch 7/10\n",
      "52/57 [==========================>...] - ETA: 0s - loss: 0.1129 - root_mean_squared_error: 0.3360"
     ]
    },
    {
     "name": "stderr",
     "output_type": "stream",
     "text": [
      "WARNING:absl:Found untraced functions such as _update_step_xla, lstm_cell_layer_call_fn, lstm_cell_layer_call_and_return_conditional_losses while saving (showing 3 of 3). These functions will not be directly callable after loading.\n"
     ]
    },
    {
     "name": "stdout",
     "output_type": "stream",
     "text": [
      "INFO:tensorflow:Assets written to: model5\\assets\n"
     ]
    },
    {
     "name": "stderr",
     "output_type": "stream",
     "text": [
      "INFO:tensorflow:Assets written to: model5\\assets\n"
     ]
    },
    {
     "name": "stdout",
     "output_type": "stream",
     "text": [
      "57/57 [==============================] - 7s 127ms/step - loss: 0.1125 - root_mean_squared_error: 0.3354 - val_loss: 0.1064 - val_root_mean_squared_error: 0.3264\n",
      "Epoch 8/10\n",
      "53/57 [==========================>...] - ETA: 0s - loss: 0.1017 - root_mean_squared_error: 0.3189"
     ]
    },
    {
     "name": "stderr",
     "output_type": "stream",
     "text": [
      "WARNING:absl:Found untraced functions such as _update_step_xla, lstm_cell_layer_call_fn, lstm_cell_layer_call_and_return_conditional_losses while saving (showing 3 of 3). These functions will not be directly callable after loading.\n"
     ]
    },
    {
     "name": "stdout",
     "output_type": "stream",
     "text": [
      "INFO:tensorflow:Assets written to: model5\\assets\n"
     ]
    },
    {
     "name": "stderr",
     "output_type": "stream",
     "text": [
      "INFO:tensorflow:Assets written to: model5\\assets\n"
     ]
    },
    {
     "name": "stdout",
     "output_type": "stream",
     "text": [
      "57/57 [==============================] - 7s 120ms/step - loss: 0.1015 - root_mean_squared_error: 0.3185 - val_loss: 0.0963 - val_root_mean_squared_error: 0.3104\n",
      "Epoch 9/10\n",
      "55/57 [===========================>..] - ETA: 0s - loss: 0.0923 - root_mean_squared_error: 0.3038"
     ]
    },
    {
     "name": "stderr",
     "output_type": "stream",
     "text": [
      "WARNING:absl:Found untraced functions such as _update_step_xla, lstm_cell_layer_call_fn, lstm_cell_layer_call_and_return_conditional_losses while saving (showing 3 of 3). These functions will not be directly callable after loading.\n"
     ]
    },
    {
     "name": "stdout",
     "output_type": "stream",
     "text": [
      "INFO:tensorflow:Assets written to: model5\\assets\n"
     ]
    },
    {
     "name": "stderr",
     "output_type": "stream",
     "text": [
      "INFO:tensorflow:Assets written to: model5\\assets\n"
     ]
    },
    {
     "name": "stdout",
     "output_type": "stream",
     "text": [
      "57/57 [==============================] - 7s 124ms/step - loss: 0.0921 - root_mean_squared_error: 0.3036 - val_loss: 0.0877 - val_root_mean_squared_error: 0.2963\n",
      "Epoch 10/10\n",
      "57/57 [==============================] - ETA: 0s - loss: 0.0843 - root_mean_squared_error: 0.2903"
     ]
    },
    {
     "name": "stderr",
     "output_type": "stream",
     "text": [
      "WARNING:absl:Found untraced functions such as _update_step_xla, lstm_cell_layer_call_fn, lstm_cell_layer_call_and_return_conditional_losses while saving (showing 3 of 3). These functions will not be directly callable after loading.\n"
     ]
    },
    {
     "name": "stdout",
     "output_type": "stream",
     "text": [
      "INFO:tensorflow:Assets written to: model5\\assets\n"
     ]
    },
    {
     "name": "stderr",
     "output_type": "stream",
     "text": [
      "INFO:tensorflow:Assets written to: model5\\assets\n"
     ]
    },
    {
     "name": "stdout",
     "output_type": "stream",
     "text": [
      "57/57 [==============================] - 7s 121ms/step - loss: 0.0843 - root_mean_squared_error: 0.2903 - val_loss: 0.0806 - val_root_mean_squared_error: 0.2840\n"
     ]
    },
    {
     "data": {
      "text/plain": [
       "<keras.callbacks.History at 0x22bdca81d30>"
      ]
     },
     "execution_count": 16,
     "metadata": {},
     "output_type": "execute_result"
    }
   ],
   "source": [
    "model5.fit(X3_train, y3_train, validation_data=(X3_val, y3_val), epochs=10, callbacks=[cp5])"
   ]
  },
  {
   "cell_type": "code",
   "execution_count": 24,
   "metadata": {},
   "outputs": [],
   "source": [
    "def plot_predictions2(model, X, y, start=0, end=100):\n",
    "    predictions = model.predict(X)\n",
    "    p_preds, temp_preds = predictions[:, 0], predictions[:, 1]\n",
    "    p_actuals, temp_actuals = y[:, 0 ,0], y[:, 0 ,1]\n",
    "    df = pd.DataFrame(data={'Temperature Predictions': temp_preds,\n",
    "                            'Temperature Actuals':temp_actuals,\n",
    "                            'Pressure Predictions': p_preds,\n",
    "                            'Pressure Actuals': p_actuals\n",
    "                            })\n",
    "    plt.plot(df['Temperature Predictions'][start:end])\n",
    "    plt.plot(df['Temperature Actuals'][start:end])\n",
    "    plt.plot(df['Pressure Predictions'][start:end])\n",
    "    plt.plot(df['Pressure Actuals'][start:end])\n",
    "    return df[start:end]"
   ]
  },
  {
   "cell_type": "code",
   "execution_count": 23,
   "metadata": {},
   "outputs": [
    {
     "data": {
      "text/plain": [
       "(295, 1, 45)"
      ]
     },
     "execution_count": 23,
     "metadata": {},
     "output_type": "execute_result"
    }
   ],
   "source": [
    "y3_test.shape"
   ]
  },
  {
   "cell_type": "code",
   "execution_count": 25,
   "metadata": {},
   "outputs": [
    {
     "name": "stdout",
     "output_type": "stream",
     "text": [
      "10/10 [==============================] - 0s 4ms/step\n"
     ]
    },
    {
     "data": {
      "text/html": [
       "<div>\n",
       "<style scoped>\n",
       "    .dataframe tbody tr th:only-of-type {\n",
       "        vertical-align: middle;\n",
       "    }\n",
       "\n",
       "    .dataframe tbody tr th {\n",
       "        vertical-align: top;\n",
       "    }\n",
       "\n",
       "    .dataframe thead th {\n",
       "        text-align: right;\n",
       "    }\n",
       "</style>\n",
       "<table border=\"1\" class=\"dataframe\">\n",
       "  <thead>\n",
       "    <tr style=\"text-align: right;\">\n",
       "      <th></th>\n",
       "      <th>Temperature Predictions</th>\n",
       "      <th>Temperature Actuals</th>\n",
       "      <th>Pressure Predictions</th>\n",
       "      <th>Pressure Actuals</th>\n",
       "    </tr>\n",
       "  </thead>\n",
       "  <tbody>\n",
       "    <tr>\n",
       "      <th>0</th>\n",
       "      <td>0.316548</td>\n",
       "      <td>0.143779</td>\n",
       "      <td>0.496442</td>\n",
       "      <td>0.203434</td>\n",
       "    </tr>\n",
       "    <tr>\n",
       "      <th>1</th>\n",
       "      <td>0.312307</td>\n",
       "      <td>0.015269</td>\n",
       "      <td>0.489752</td>\n",
       "      <td>0.000000</td>\n",
       "    </tr>\n",
       "    <tr>\n",
       "      <th>2</th>\n",
       "      <td>0.309215</td>\n",
       "      <td>0.000000</td>\n",
       "      <td>0.489392</td>\n",
       "      <td>0.018277</td>\n",
       "    </tr>\n",
       "    <tr>\n",
       "      <th>3</th>\n",
       "      <td>0.298660</td>\n",
       "      <td>0.031893</td>\n",
       "      <td>0.478289</td>\n",
       "      <td>0.044930</td>\n",
       "    </tr>\n",
       "    <tr>\n",
       "      <th>4</th>\n",
       "      <td>0.295424</td>\n",
       "      <td>0.108934</td>\n",
       "      <td>0.484025</td>\n",
       "      <td>0.071282</td>\n",
       "    </tr>\n",
       "    <tr>\n",
       "      <th>...</th>\n",
       "      <td>...</td>\n",
       "      <td>...</td>\n",
       "      <td>...</td>\n",
       "      <td>...</td>\n",
       "    </tr>\n",
       "    <tr>\n",
       "      <th>95</th>\n",
       "      <td>0.312058</td>\n",
       "      <td>0.146255</td>\n",
       "      <td>0.509438</td>\n",
       "      <td>0.205999</td>\n",
       "    </tr>\n",
       "    <tr>\n",
       "      <th>96</th>\n",
       "      <td>0.316548</td>\n",
       "      <td>0.143779</td>\n",
       "      <td>0.496442</td>\n",
       "      <td>0.203434</td>\n",
       "    </tr>\n",
       "    <tr>\n",
       "      <th>97</th>\n",
       "      <td>0.312307</td>\n",
       "      <td>0.015269</td>\n",
       "      <td>0.489752</td>\n",
       "      <td>0.000000</td>\n",
       "    </tr>\n",
       "    <tr>\n",
       "      <th>98</th>\n",
       "      <td>0.309215</td>\n",
       "      <td>0.000000</td>\n",
       "      <td>0.489392</td>\n",
       "      <td>0.018277</td>\n",
       "    </tr>\n",
       "    <tr>\n",
       "      <th>99</th>\n",
       "      <td>0.298660</td>\n",
       "      <td>0.031893</td>\n",
       "      <td>0.478289</td>\n",
       "      <td>0.044930</td>\n",
       "    </tr>\n",
       "  </tbody>\n",
       "</table>\n",
       "<p>100 rows × 4 columns</p>\n",
       "</div>"
      ],
      "text/plain": [
       "    Temperature Predictions  Temperature Actuals  Pressure Predictions  \\\n",
       "0                  0.316548             0.143779              0.496442   \n",
       "1                  0.312307             0.015269              0.489752   \n",
       "2                  0.309215             0.000000              0.489392   \n",
       "3                  0.298660             0.031893              0.478289   \n",
       "4                  0.295424             0.108934              0.484025   \n",
       "..                      ...                  ...                   ...   \n",
       "95                 0.312058             0.146255              0.509438   \n",
       "96                 0.316548             0.143779              0.496442   \n",
       "97                 0.312307             0.015269              0.489752   \n",
       "98                 0.309215             0.000000              0.489392   \n",
       "99                 0.298660             0.031893              0.478289   \n",
       "\n",
       "    Pressure Actuals  \n",
       "0           0.203434  \n",
       "1           0.000000  \n",
       "2           0.018277  \n",
       "3           0.044930  \n",
       "4           0.071282  \n",
       "..               ...  \n",
       "95          0.205999  \n",
       "96          0.203434  \n",
       "97          0.000000  \n",
       "98          0.018277  \n",
       "99          0.044930  \n",
       "\n",
       "[100 rows x 4 columns]"
      ]
     },
     "execution_count": 25,
     "metadata": {},
     "output_type": "execute_result"
    },
    {
     "data": {
      "image/png": "[encoded data removed]",
      "text/plain": [
       "<Figure size 640x480 with 1 Axes>"
      ]
     },
     "metadata": {},
     "output_type": "display_data"
    }
   ],
   "source": [
    "plot_predictions2(model5, X3_test, y3_test)"
   ]
  }
 ],
 "metadata": {
  "kernelspec": {
   "display_name": "base",
   "language": "python",
   "name": "python3"
  },
  "language_info": {
   "codemirror_mode": {
    "name": "ipython",
    "version": 3
   },
   "file_extension": ".py",
   "mimetype": "text/x-python",
   "name": "python",
   "nbconvert_exporter": "python",
   "pygments_lexer": "ipython3",
   "version": "3.9.0"
  },
  "orig_nbformat": 4
 },
 "nbformat": 4,
 "nbformat_minor": 2
}
