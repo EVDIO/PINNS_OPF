{
 "cells": [
  {
   "cell_type": "code",
   "execution_count": 32,
   "metadata": {},
   "outputs": [],
   "source": [
    "import pickle\n",
    " \n",
    "   # Load the data from the pickle file\n",
    "with open(r'C:\\Users\\edi\\GitHub\\pinns_opf\\data\\processed\\data_node10.pickle', 'rb') as file:\n",
    "    loaded_data = pickle.load(file)"
   ]
  },
  {
   "cell_type": "code",
   "execution_count": 33,
   "metadata": {},
   "outputs": [
    {
     "data": {
      "text/plain": [
       "dict_keys(['edge_index', 'edge_weight', 'features_seq', 'targets_seq'])"
      ]
     },
     "execution_count": 33,
     "metadata": {},
     "output_type": "execute_result"
    }
   ],
   "source": [
    "loaded_data.keys()"
   ]
  },
  {
   "cell_type": "code",
   "execution_count": 34,
   "metadata": {},
   "outputs": [],
   "source": [
    "import numpy as np\n",
    "targets_seq = np.array(loaded_data['targets_seq'])"
   ]
  },
  {
   "cell_type": "code",
   "execution_count": 35,
   "metadata": {},
   "outputs": [
    {
     "data": {
      "text/plain": [
       "(23000, 10, 12)"
      ]
     },
     "execution_count": 35,
     "metadata": {},
     "output_type": "execute_result"
    }
   ],
   "source": [
    "targets_seq.shape"
   ]
  },
  {
   "cell_type": "code",
   "execution_count": 38,
   "metadata": {},
   "outputs": [],
   "source": [
    "noise = np.random.normal(loc=0.0, scale =0.08, size = targets_seq.shape)\n",
    "noise_2 = np.random.normal(loc=0.0, scale =0.5, size = targets_seq.shape)"
   ]
  },
  {
   "cell_type": "code",
   "execution_count": 39,
   "metadata": {},
   "outputs": [
    {
     "data": {
      "text/plain": [
       "array([[[ 0.00383567,  0.11178294,  0.01071251, ...,  0.00858271,\n",
       "          0.01506943, -0.12546123],\n",
       "        [-0.04752069,  0.03613874, -0.05999642, ...,  0.03586327,\n",
       "          0.19976198, -0.08305228],\n",
       "        [ 0.03238168,  0.15227413,  0.00099562, ..., -0.14958237,\n",
       "         -0.15101135,  0.09184547],\n",
       "        ...,\n",
       "        [-0.09247424,  0.04657116, -0.00516798, ...,  0.02898381,\n",
       "          0.06250606, -0.03143199],\n",
       "        [-0.0117678 ,  0.02746555, -0.10697491, ..., -0.11207175,\n",
       "         -0.07044799,  0.04231068],\n",
       "        [ 0.12785813,  0.01973289,  0.13263097, ..., -0.01902159,\n",
       "          0.06722402, -0.33008447]],\n",
       "\n",
       "       [[-0.14248475, -0.05096116,  0.02132662, ...,  0.07462348,\n",
       "         -0.14498294, -0.14612268],\n",
       "        [ 0.08408835,  0.02682714, -0.0704436 , ...,  0.00446273,\n",
       "         -0.09277173,  0.08989001],\n",
       "        [ 0.07611459,  0.03677385,  0.104509  , ...,  0.06690101,\n",
       "         -0.03034204, -0.1009083 ],\n",
       "        ...,\n",
       "        [-0.00037223, -0.08026513, -0.08460995, ...,  0.04195551,\n",
       "          0.06883668,  0.17012246],\n",
       "        [-0.02688779,  0.06722112,  0.00672925, ..., -0.16391113,\n",
       "         -0.0565154 , -0.07276543],\n",
       "        [ 0.04959211,  0.08347714, -0.06285468, ...,  0.07083464,\n",
       "          0.07972288, -0.07238062]],\n",
       "\n",
       "       [[-0.08051127,  0.13494577, -0.03080684, ...,  0.0499721 ,\n",
       "         -0.0920767 ,  0.12721208],\n",
       "        [-0.03360099, -0.03291922, -0.0377849 , ..., -0.11008235,\n",
       "         -0.04893678, -0.11068461],\n",
       "        [-0.0461277 , -0.10550694, -0.07395197, ...,  0.01047386,\n",
       "          0.07691768, -0.02478091],\n",
       "        ...,\n",
       "        [ 0.02886082, -0.02039243,  0.02278308, ...,  0.00915238,\n",
       "          0.00480844,  0.01292251],\n",
       "        [ 0.02248661, -0.21659199,  0.07743139, ..., -0.01264006,\n",
       "          0.04946906,  0.02395637],\n",
       "        [-0.08147301, -0.08856817, -0.01653971, ..., -0.05310529,\n",
       "          0.08319079, -0.04457314]],\n",
       "\n",
       "       ...,\n",
       "\n",
       "       [[-0.00581437, -0.05860778, -0.04397878, ...,  0.04303419,\n",
       "         -0.00403848, -0.0028632 ],\n",
       "        [-0.01682439, -0.03561581,  0.07175483, ...,  0.01602925,\n",
       "          0.02071473, -0.1072128 ],\n",
       "        [ 0.06656401, -0.05165189, -0.14757405, ..., -0.05473649,\n",
       "          0.07182882, -0.03827964],\n",
       "        ...,\n",
       "        [ 0.00605867,  0.10911436,  0.00559263, ..., -0.01793058,\n",
       "         -0.04866958,  0.11543544],\n",
       "        [-0.07414592, -0.01031881,  0.03695057, ...,  0.03390461,\n",
       "          0.07298632,  0.0047145 ],\n",
       "        [ 0.16573305, -0.0110118 ,  0.04232367, ..., -0.10103315,\n",
       "         -0.04802775, -0.05493053]],\n",
       "\n",
       "       [[-0.05013873,  0.00896238, -0.01436698, ...,  0.01422652,\n",
       "         -0.11345545,  0.09713119],\n",
       "        [-0.06358753,  0.06925985,  0.12707141, ...,  0.07118198,\n",
       "          0.05308549,  0.02112656],\n",
       "        [-0.03396185,  0.23061709, -0.05153257, ...,  0.09022158,\n",
       "         -0.01317601, -0.06763712],\n",
       "        ...,\n",
       "        [ 0.02153596, -0.0657345 , -0.1396267 , ..., -0.09496495,\n",
       "         -0.01553121,  0.01848008],\n",
       "        [-0.16964582,  0.00587248,  0.02934078, ..., -0.06098505,\n",
       "         -0.06684508, -0.02831127],\n",
       "        [-0.05803418,  0.02331871,  0.04152889, ..., -0.03457668,\n",
       "         -0.07863205, -0.03404011]],\n",
       "\n",
       "       [[-0.08988954, -0.07042189,  0.02989951, ...,  0.04735649,\n",
       "          0.02272475,  0.02974381],\n",
       "        [-0.12176076,  0.0848574 , -0.03630874, ...,  0.04666131,\n",
       "          0.09375842, -0.04688549],\n",
       "        [ 0.06360458, -0.14114881, -0.13791497, ..., -0.01199269,\n",
       "         -0.03911571, -0.09273416],\n",
       "        ...,\n",
       "        [ 0.10922373, -0.06587229,  0.08688624, ..., -0.17570249,\n",
       "          0.01843171, -0.01295508],\n",
       "        [ 0.04667469,  0.00083348,  0.04211796, ...,  0.04425476,\n",
       "          0.22172259, -0.0871507 ],\n",
       "        [-0.0152501 , -0.02721813,  0.1432896 , ...,  0.11219602,\n",
       "          0.07625443, -0.03894009]]])"
      ]
     },
     "execution_count": 39,
     "metadata": {},
     "output_type": "execute_result"
    }
   ],
   "source": [
    "noise"
   ]
  },
  {
   "cell_type": "code",
   "execution_count": 40,
   "metadata": {},
   "outputs": [],
   "source": [
    "targets_seq_noise = targets_seq + noise"
   ]
  },
  {
   "cell_type": "code",
   "execution_count": 27,
   "metadata": {},
   "outputs": [],
   "source": [
    "targets_seq_noise_2 = targets_seq + noise_2"
   ]
  },
  {
   "cell_type": "code",
   "execution_count": 28,
   "metadata": {},
   "outputs": [],
   "source": [
    "# loaded_data['targets_seq'] = targets_seq_noise\n",
    "# # Save the data as a pickle file\n",
    "# with open(r'C:\\Users\\edi\\GitHub\\pinns_opf\\data\\processed\\data_converged_noise3.pickle', 'wb') as file:\n",
    "#         pickle.dump(loaded_data, file)"
   ]
  },
  {
   "cell_type": "code",
   "execution_count": 41,
   "metadata": {},
   "outputs": [],
   "source": [
    "loaded_data['targets_seq'] = targets_seq_noise_2\n",
    "# Save the data as a pickle file\n",
    "with open(r'C:\\Users\\edi\\GitHub\\pinns_opf\\data\\processed\\data_node10.pickle', 'wb') as file:\n",
    "        pickle.dump(loaded_data, file)"
   ]
  }
 ],
 "metadata": {
  "kernelspec": {
   "display_name": "pinns_opf",
   "language": "python",
   "name": "python3"
  },
  "language_info": {
   "codemirror_mode": {
    "name": "ipython",
    "version": 3
   },
   "file_extension": ".py",
   "mimetype": "text/x-python",
   "name": "python",
   "nbconvert_exporter": "python",
   "pygments_lexer": "ipython3",
   "version": "3.9.17"
  },
  "orig_nbformat": 4
 },
 "nbformat": 4,
 "nbformat_minor": 2
}
