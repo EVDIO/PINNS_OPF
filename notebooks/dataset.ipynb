{
 "cells": [
  {
   "cell_type": "code",
   "execution_count": 1,
   "metadata": {},
   "outputs": [],
   "source": [
    "import pickle\n",
    " \n",
    "   # Load the data from the pickle file\n",
    "with open(r'C:\\Users\\edi\\GitHub\\pinns_opf\\data\\processed\\data_converged.pickle', 'rb') as file:\n",
    "    loaded_data = pickle.load(file)"
   ]
  },
  {
   "cell_type": "code",
   "execution_count": 2,
   "metadata": {},
   "outputs": [
    {
     "data": {
      "text/plain": [
       "dict_keys(['edge_index', 'edge_weight', 'features_seq', 'targets_seq'])"
      ]
     },
     "execution_count": 2,
     "metadata": {},
     "output_type": "execute_result"
    }
   ],
   "source": [
    "loaded_data.keys()"
   ]
  },
  {
   "cell_type": "code",
   "execution_count": 3,
   "metadata": {},
   "outputs": [],
   "source": [
    "import numpy as np\n",
    "targets_seq = np.array(loaded_data['targets_seq'])"
   ]
  },
  {
   "cell_type": "code",
   "execution_count": 4,
   "metadata": {},
   "outputs": [
    {
     "data": {
      "text/plain": [
       "(23000, 5, 9)"
      ]
     },
     "execution_count": 4,
     "metadata": {},
     "output_type": "execute_result"
    }
   ],
   "source": [
    "targets_seq.shape"
   ]
  },
  {
   "cell_type": "code",
   "execution_count": 5,
   "metadata": {},
   "outputs": [],
   "source": [
    "noise = np.random.normal(loc=0.0, scale =0.3, size = targets_seq.shape)\n",
    "noise_2 = np.random.normal(loc=0.0, scale =0.5, size = targets_seq.shape)"
   ]
  },
  {
   "cell_type": "code",
   "execution_count": 6,
   "metadata": {},
   "outputs": [],
   "source": [
    "targets_seq_noise = targets_seq + noise"
   ]
  },
  {
   "cell_type": "code",
   "execution_count": 7,
   "metadata": {},
   "outputs": [],
   "source": [
    "targets_seq_noise_2 = targets_seq + noise_2"
   ]
  },
  {
   "cell_type": "code",
   "execution_count": 8,
   "metadata": {},
   "outputs": [],
   "source": [
    "loaded_data['targets_seq'] = targets_seq_noise\n",
    "# Save the data as a pickle file\n",
    "with open(r'C:\\Users\\edi\\GitHub\\pinns_opf\\data\\processed\\data_converged_noise3.pickle', 'wb') as file:\n",
    "        pickle.dump(loaded_data, file)"
   ]
  },
  {
   "cell_type": "code",
   "execution_count": 9,
   "metadata": {},
   "outputs": [],
   "source": [
    "loaded_data['targets_seq'] = targets_seq_noise_2\n",
    "# Save the data as a pickle file\n",
    "with open(r'C:\\Users\\edi\\GitHub\\pinns_opf\\data\\processed\\data_converged_noise5.pickle', 'wb') as file:\n",
    "        pickle.dump(loaded_data, file)"
   ]
  }
 ],
 "metadata": {
  "kernelspec": {
   "display_name": "pinns_opf",
   "language": "python",
   "name": "python3"
  },
  "language_info": {
   "codemirror_mode": {
    "name": "ipython",
    "version": 3
   },
   "file_extension": ".py",
   "mimetype": "text/x-python",
   "name": "python",
   "nbconvert_exporter": "python",
   "pygments_lexer": "ipython3",
   "version": "3.9.17"
  },
  "orig_nbformat": 4
 },
 "nbformat": 4,
 "nbformat_minor": 2
}
