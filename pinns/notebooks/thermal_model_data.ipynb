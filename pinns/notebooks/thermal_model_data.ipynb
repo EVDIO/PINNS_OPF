{
 "cells": [
  {
   "cell_type": "code",
   "execution_count": 1,
   "metadata": {},
   "outputs": [],
   "source": [
    "import numpy as np"
   ]
  },
  {
   "cell_type": "code",
   "execution_count": 4,
   "metadata": {},
   "outputs": [],
   "source": [
    "n = 21\n",
    "R_i = np.random.normal(loc=46.848,scale=0.134,size=n)\n",
    "C_i = np.random.normal(loc=8.120,scale=0.294,size=n)\n",
    "Rim = np.random.normal(loc=1.809,scale=0.147,size=n)\n",
    "Ra = np.random.normal(loc=8.021,scale=0.501,size=n)\n",
    "C_im = np.random.normal(loc=0.00553,scale=0.000611,size=n)\n",
    "C_om =  np.random.normal(loc=292.905,scale=7.675,size=n)\n",
    "R_am = np.random.normal(loc=0.0846,scale=0.0294,size=n)\n",
    "A = np.random.normal(loc=20.212,scale=1.491,size=n)\n",
    "p = 1"
   ]
  },
  {
   "cell_type": "code",
   "execution_count": 3,
   "metadata": {},
   "outputs": [
    {
     "data": {
      "text/plain": [
       "array([46.78100472, 47.09287341, 46.91571607, 47.01805673, 46.88704903,\n",
       "       46.87448557, 46.64989324, 46.89833509, 46.76051639, 46.78455594,\n",
       "       46.68175565, 46.9520101 , 47.00176471, 46.93722876, 47.01073097,\n",
       "       46.66420393, 46.90871354, 46.93588586, 46.89499067, 46.77488651,\n",
       "       46.72790527])"
      ]
     },
     "execution_count": 3,
     "metadata": {},
     "output_type": "execute_result"
    }
   ],
   "source": []
  },
  {
   "cell_type": "code",
   "execution_count": null,
   "metadata": {},
   "outputs": [],
   "source": []
  }
 ],
 "metadata": {
  "kernelspec": {
   "display_name": "base",
   "language": "python",
   "name": "python3"
  },
  "language_info": {
   "codemirror_mode": {
    "name": "ipython",
    "version": 3
   },
   "file_extension": ".py",
   "mimetype": "text/x-python",
   "name": "python",
   "nbconvert_exporter": "python",
   "pygments_lexer": "ipython3",
   "version": "3.10.8"
  },
  "orig_nbformat": 4
 },
 "nbformat": 4,
 "nbformat_minor": 2
}
