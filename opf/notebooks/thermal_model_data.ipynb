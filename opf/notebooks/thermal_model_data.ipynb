{
 "cells": [
  {
   "cell_type": "code",
   "execution_count": 2,
   "metadata": {},
   "outputs": [],
   "source": [
    "import numpy as np\n",
    "import pandas as pd\n",
    "from scipy.integrate import odeint\n",
    "import pyreadr\n",
    "import os \n"
   ]
  },
  {
   "attachments": {},
   "cell_type": "markdown",
   "metadata": {},
   "source": [
    "$$\n",
    "\\begin{aligned}\n",
    "C_i \\frac{d T_i}{d t}= & \\frac{1}{R_a}\\left(T_a-T_i\\right)+\\frac{1}{R_i}\\left(T_{i m}-T_i\\right) \\\\\n",
    "& +\\frac{1}{R_{i m}}\\left(T_{o m}-T_i\\right)+A(1-p) \\Phi_s \\\\\n",
    "& +\\Phi_h \\\\\n",
    "C_{i m} \\frac{d T_{i m}}{d t}= & \\frac{1}{R_i}\\left(T_i-T_{i m}\\right)+A p \\Phi_s \\\\\n",
    "C_{o m} \\frac{d T_{o m}}{d t}= & \\frac{1}{R_{i m}}\\left(T_i-T_{o m}\\right)+\\frac{1}{R_{a m}}\\left(T_a-T_{o m}\\right)\n",
    "\\end{aligned}\n",
    "$$"
   ]
  },
  {
   "cell_type": "code",
   "execution_count": 3,
   "metadata": {},
   "outputs": [],
   "source": [
    "Ri = 46.848    # Resistance between indoor air and interior walls\n",
    "Rim = 1.809    # Resistance between indoor air and house envelop\n",
    "Ra = 8.021     # Resistance between indoor air and outdoor\n",
    "Ram = 0.0846   # Resistance between house envelope and outdoor\n",
    "\n",
    "Ci = 8.120      # heat capacity of indoor air\n",
    "Cim = 0.00553   # heat capacity of interior walls\n",
    "Com = 292.905   # heat capacity of house envelope\n",
    "\n",
    "A = 20.212     # window area\n",
    "p = 1          # fraction"
   ]
  },
  {
   "attachments": {},
   "cell_type": "markdown",
   "metadata": {},
   "source": [
    "If,\n",
    "\n",
    "$$\n",
    "\\frac{d \\boldsymbol{T}}{d t}=A T+B U\n",
    "$$"
   ]
  },
  {
   "attachments": {},
   "cell_type": "markdown",
   "metadata": {},
   "source": [
    "Now we can identify the matrices $A$ and $B$ :\n",
    "Now we can identify the matrices $A$ and $B$ :\n",
    "$$\n",
    "A=\\left[\\begin{array}{ccc}\n",
    "-\\frac{1}{C_i}-\\frac{1}{C_i R_a}-\\frac{1}{C_i R_i}-\\frac{1}{C_i R_{i m}} & 0 & 0 \\\\\n",
    "\\frac{1}{C_{i \\mathrm{im}} R_i} & -\\frac{1}{C_{i m} R_i} & 0 \\\\\n",
    "C_{o m} R_{i m} & 0 & -\\frac{1}{C_{o m} R_{i m}}-\\frac{1}{C_{o m} R_{a m}}\n",
    "\\end{array}\\right]\n",
    "$$"
   ]
  },
  {
   "attachments": {},
   "cell_type": "markdown",
   "metadata": {},
   "source": [
    "$$\n",
    "B=\\left[\\begin{array}{ccc}\n",
    "\\frac{1}{C_iR_a} & \\frac{A(1-p)}{C_i} & \\frac{1}{C_i} \\\\\n",
    "0 & \\frac{A p}{C_{\\mathrm{im}}} & 0 \\\\\n",
    "\\frac{1}{C_{o m} R_{\\mathrm{am}}} & 0 & 0\n",
    "\\end{array}\\right]\n",
    "$$"
   ]
  },
  {
   "cell_type": "code",
   "execution_count": 4,
   "metadata": {},
   "outputs": [],
   "source": [
    "# Construct matrix A\n",
    "A_matrix = np.array([\n",
    "    [-1 / (Ci * Ra) - 1 / (Ci * Ri) - 1 / (Ci * Rim), 1 / (Ci * Ri), 1 / (Ci * Rim)],\n",
    "    [1 / (Cim * Ri), -1 / (Cim * Ri), 0],\n",
    "    [1 / (Com * Rim), 0, -1 / (Com * Rim) - 1 / (Com * Ram)]\n",
    "])\n",
    "\n",
    "# Construct matrix B\n",
    "B_matrix = np.array([\n",
    "    [1 / (Ci * Ra), A * (1 - p) / Ci, 1 / Ci],\n",
    "    [0, A * p / Cim, 0],\n",
    "    [1 / (Com * Ram), 0, 0]\n",
    "])"
   ]
  },
  {
   "attachments": {},
   "cell_type": "markdown",
   "metadata": {},
   "source": [
    "Create input data for each time point to solve the differential equation"
   ]
  },
  {
   "cell_type": "code",
   "execution_count": 5,
   "metadata": {},
   "outputs": [],
   "source": [
    "path = os.getcwd()"
   ]
  },
  {
   "cell_type": "code",
   "execution_count": 6,
   "metadata": {},
   "outputs": [
    {
     "data": {
      "text/plain": [
       "b'c:\\\\Users\\\\Dell\\\\Documents\\\\GitHub\\\\PINNS_OPF\\\\opf\\\\notebooks'"
      ]
     },
     "execution_count": 6,
     "metadata": {},
     "output_type": "execute_result"
    }
   ],
   "source": [
    "os.getcwdb()"
   ]
  },
  {
   "cell_type": "code",
   "execution_count": 7,
   "metadata": {},
   "outputs": [
    {
     "data": {
      "text/plain": [
       "odict_keys(['AllDat'])"
      ]
     },
     "execution_count": 7,
     "metadata": {},
     "output_type": "execute_result"
    }
   ],
   "source": [
    "\n",
    "result = pyreadr.read_r(path=r'C:\\Users\\Dell\\Documents\\GitHub\\PINNS_OPF\\opf\\data\\raw\\Exercise3.RData')\n",
    "result.keys() # extract the pandas data frame for object df1"
   ]
  },
  {
   "cell_type": "code",
   "execution_count": 8,
   "metadata": {},
   "outputs": [
    {
     "data": {
      "text/plain": [
       "Index(['date', 't', 'yTi1', 'yTi2', 'yTi3', 'yTi4', 'Ta', 'Gv', 'Ph1', 'Ph2'], dtype='object')"
      ]
     },
     "execution_count": 8,
     "metadata": {},
     "output_type": "execute_result"
    }
   ],
   "source": [
    "input_df = result['AllDat']\n",
    "input_df.columns"
   ]
  },
  {
   "cell_type": "code",
   "execution_count": 9,
   "metadata": {},
   "outputs": [],
   "source": [
    "U = np.array([input_df['Ta'].to_numpy(),input_df['Gv'].to_numpy(),input_df['Ph1'].to_numpy()])"
   ]
  },
  {
   "cell_type": "code",
   "execution_count": 76,
   "metadata": {},
   "outputs": [
    {
     "data": {
      "text/plain": [
       "array([[ 0.06367266,  0.        ,  0.        ],\n",
       "       [ 0.        , 10.67601888,  0.        ],\n",
       "       [ 0.        ,  0.        ,  0.38945771]])"
      ]
     },
     "execution_count": 76,
     "metadata": {},
     "output_type": "execute_result"
    }
   ],
   "source": [
    "Sigma = np.diag([np.exp(-2.754),np.exp(2.368),np.exp(-0.943)])\n",
    "Sigma"
   ]
  },
  {
   "cell_type": "code",
   "execution_count": 77,
   "metadata": {},
   "outputs": [
    {
     "data": {
      "text/plain": [
       "array([ 0.12229158, -1.59722931,  0.04727038])"
      ]
     },
     "execution_count": 77,
     "metadata": {},
     "output_type": "execute_result"
    }
   ],
   "source": [
    "np.random.multivariate_normal(mean=[0,0,0],cov=Sigma)"
   ]
  },
  {
   "cell_type": "code",
   "execution_count": 80,
   "metadata": {},
   "outputs": [],
   "source": [
    "# Modify the differential equation function to include U\n",
    "def differential_equation(T, t, A, B, U):\n",
    "    U = U[:,int(t)]\n",
    "    dTdt = np.dot(A, T) + np.dot(B, U) \n",
    "    return dTdt\n",
    "\n",
    "initial_Ti = 15\n",
    "initial_Tim = 17\n",
    "initial_Tom = 12\n",
    "\n",
    "# Define the initial conditions\n",
    "T_initial = np.array([initial_Ti, initial_Tim, initial_Tom])\n",
    "\n",
    "# Define the time points\n",
    "t = t = np.linspace(1,100,1200)\n",
    "\n",
    "# Solve the differential equation\n",
    "solution = odeint(differential_equation, T_initial, t, args=(A_matrix, B_matrix, U))\n",
    "\n",
    "# Extract the solution components\n",
    "Ti_solution = solution[:, 0]\n",
    "Tim_solution = solution[:, 1]\n",
    "Tom_solution = solution[:, 2]"
   ]
  },
  {
   "cell_type": "code",
   "execution_count": 81,
   "metadata": {},
   "outputs": [
    {
     "data": {
      "text/plain": [
       "array([15.        , 15.08713937, 15.18316765, ..., 15.91050706,\n",
       "       15.97850391, 16.04621649])"
      ]
     },
     "execution_count": 81,
     "metadata": {},
     "output_type": "execute_result"
    }
   ],
   "source": [
    "Ti_solution"
   ]
  },
  {
   "cell_type": "code",
   "execution_count": null,
   "metadata": {},
   "outputs": [],
   "source": []
  }
 ],
 "metadata": {
  "kernelspec": {
   "display_name": "base",
   "language": "python",
   "name": "python3"
  },
  "language_info": {
   "codemirror_mode": {
    "name": "ipython",
    "version": 3
   },
   "file_extension": ".py",
   "mimetype": "text/x-python",
   "name": "python",
   "nbconvert_exporter": "python",
   "pygments_lexer": "ipython3",
   "version": "3.10.8"
  },
  "orig_nbformat": 4
 },
 "nbformat": 4,
 "nbformat_minor": 2
}
